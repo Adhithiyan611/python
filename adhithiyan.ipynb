{
 "cells": [
  {
   "cell_type": "markdown",
   "id": "034d6efa",
   "metadata": {},
   "source": [
    "# function"
   ]
  },
  {
   "cell_type": "code",
   "execution_count": 14,
   "id": "954d8d90",
   "metadata": {},
   "outputs": [],
   "source": [
    "def Dance (place,time,date):\n",
    "    print(f\"The{place},opining{time},during this day{date}\")\n",
    "    print(\"{time} only half day\")     "
   ]
  },
  {
   "cell_type": "code",
   "execution_count": 16,
   "id": "9809ef7f",
   "metadata": {},
   "outputs": [
    {
     "name": "stdout",
     "output_type": "stream",
     "text": [
      "Theoldbustand,opining12:30,during this day16\n",
      "{time} only half day\n"
     ]
    }
   ],
   "source": [
    "Dance(\"oldbustand\", \"12:30\", 16)"
   ]
  },
  {
   "cell_type": "code",
   "execution_count": 23,
   "id": "9434def8",
   "metadata": {},
   "outputs": [],
   "source": [
    "def eligiblity (Name,Age):\n",
    "    if Age>=18:\n",
    "        print(f\"person {Name},Age {Age} is eligiblity to vote.\")\n",
    "    else:\n",
    "        print(f\"person {Name},Age {Age} is not eligiblity to vote.\")"
   ]
  },
  {
   "cell_type": "code",
   "execution_count": 24,
   "id": "a18db8ea",
   "metadata": {},
   "outputs": [
    {
     "name": "stdout",
     "output_type": "stream",
     "text": [
      "person deva,Age 19 is eligiblity to vote.\n"
     ]
    }
   ],
   "source": [
    "eligiblity (\"deva\", 19)"
   ]
  },
  {
   "cell_type": "markdown",
   "id": "c3ebc3f5",
   "metadata": {},
   "source": [
    "# lambda function"
   ]
  },
  {
   "cell_type": "code",
   "execution_count": 27,
   "id": "ecd2d355",
   "metadata": {},
   "outputs": [],
   "source": [
    "output=lambda d1,d2,d3: d1+d2-d3*d2"
   ]
  },
  {
   "cell_type": "code",
   "execution_count": 28,
   "id": "72661064",
   "metadata": {},
   "outputs": [
    {
     "name": "stdout",
     "output_type": "stream",
     "text": [
      "-3929\n"
     ]
    }
   ],
   "source": [
    "print(output (21,50,80))\n"
   ]
  },
  {
   "cell_type": "code",
   "execution_count": 29,
   "id": "e64d780a",
   "metadata": {},
   "outputs": [
    {
     "data": {
      "text/plain": [
       "-3"
      ]
     },
     "execution_count": 29,
     "metadata": {},
     "output_type": "execute_result"
    }
   ],
   "source": [
    "output(1,2,3)"
   ]
  },
  {
   "cell_type": "code",
   "execution_count": null,
   "id": "a091a18c",
   "metadata": {},
   "outputs": [],
   "source": []
  }
 ],
 "metadata": {
  "kernelspec": {
   "display_name": "Python 3 (ipykernel)",
   "language": "python",
   "name": "python3"
  },
  "language_info": {
   "codemirror_mode": {
    "name": "ipython",
    "version": 3
   },
   "file_extension": ".py",
   "mimetype": "text/x-python",
   "name": "python",
   "nbconvert_exporter": "python",
   "pygments_lexer": "ipython3",
   "version": "3.9.13"
  }
 },
 "nbformat": 4,
 "nbformat_minor": 5
}
